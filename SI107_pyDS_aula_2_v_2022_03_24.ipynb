{
  "cells": [
    {
      "cell_type": "markdown",
      "metadata": {
        "id": "view-in-github",
        "colab_type": "text"
      },
      "source": [
        "<a href=\"https://colab.research.google.com/github/jorgelucasp42/.Net/blob/main/SI107_pyDS_aula_2_v_2022_03_24.ipynb\" target=\"_parent\"><img src=\"https://colab.research.google.com/assets/colab-badge.svg\" alt=\"Open In Colab\"/></a>"
      ]
    },
    {
      "cell_type": "markdown",
      "metadata": {
        "id": "01YY2eCvCTVz"
      },
      "source": [
        "# SI-107 - Introdução à Ciência dos Dados com Python\n",
        "_Tópicos Especiais do Curso de Sistemas de Informação no IFMA Monte Castelo, 2019_"
      ]
    },
    {
      "cell_type": "markdown",
      "metadata": {
        "id": "jNnTPiqOCTV1"
      },
      "source": [
        "# Aula 2  - Visão Geral da Linguagem Python"
      ]
    },
    {
      "cell_type": "markdown",
      "metadata": {
        "id": "pNOPoSdQCTV2"
      },
      "source": [
        "##### Prof. Josenildo Silva (jcsilva@ifma.edu.br)"
      ]
    },
    {
      "cell_type": "markdown",
      "metadata": {
        "id": "1Y8ycuQyCTV3"
      },
      "source": [
        "**Nota 1:** Este notebook é material complementar para disciplina Python para Ciencia dos Dados ministrada no curso de SI do IFMA Monte Castelo.  \n",
        "\n",
        "**Nota 2:** Este capítulo é baseado no Cap. 2 (Sec. 2.3) do livro “Python para Ciência dos Dados” de McKINNEY e em vários sites encontrados na internet. Para maiores detalhes; veja referencias no final."
      ]
    },
    {
      "cell_type": "markdown",
      "metadata": {
        "id": "dIiE6MnzCTV4"
      },
      "source": [
        "## Preliminares"
      ]
    },
    {
      "cell_type": "markdown",
      "metadata": {
        "id": "Bi2GsYNXCTV4"
      },
      "source": [
        "Para começar, vamos discutir alguns aspectos básicos da linguagem: tipos, blocos, objetos"
      ]
    },
    {
      "cell_type": "markdown",
      "metadata": {
        "id": "5yTG_b6tCTV4"
      },
      "source": [
        "#### Tipos"
      ]
    },
    {
      "cell_type": "markdown",
      "metadata": {
        "id": "r242nDZTCTV4"
      },
      "source": [
        "Em python utilizamos a função `type()` para saber o tipo de uma variável"
      ]
    },
    {
      "cell_type": "code",
      "execution_count": null,
      "metadata": {
        "id": "FphAqCSsCTV4"
      },
      "outputs": [],
      "source": [
        "a = 1"
      ]
    },
    {
      "cell_type": "code",
      "execution_count": null,
      "metadata": {
        "id": "3k9hAMhqCTV5",
        "outputId": "7cfa8740-df0a-4bac-a0cd-d9f05aa09685"
      },
      "outputs": [
        {
          "data": {
            "text/plain": [
              "int"
            ]
          },
          "execution_count": 2,
          "metadata": {},
          "output_type": "execute_result"
        }
      ],
      "source": [
        "type(a)"
      ]
    },
    {
      "cell_type": "code",
      "execution_count": null,
      "metadata": {
        "id": "YGdCiXnQCTV6"
      },
      "outputs": [],
      "source": [
        "a = 1.0"
      ]
    },
    {
      "cell_type": "code",
      "execution_count": null,
      "metadata": {
        "id": "VTkExHlgCTV6",
        "outputId": "c4dc8ae4-6285-49af-fa97-fc7feee735af"
      },
      "outputs": [
        {
          "data": {
            "text/plain": [
              "float"
            ]
          },
          "execution_count": 4,
          "metadata": {},
          "output_type": "execute_result"
        }
      ],
      "source": [
        "type(a)"
      ]
    },
    {
      "cell_type": "code",
      "execution_count": null,
      "metadata": {
        "id": "21uJWLMqCTV6"
      },
      "outputs": [],
      "source": [
        "a = 'hello'"
      ]
    },
    {
      "cell_type": "code",
      "execution_count": null,
      "metadata": {
        "id": "qDY4Xl4kCTV6",
        "outputId": "462b0e94-767f-4126-8f45-becc9040cbb2"
      },
      "outputs": [
        {
          "data": {
            "text/plain": [
              "str"
            ]
          },
          "execution_count": 6,
          "metadata": {},
          "output_type": "execute_result"
        }
      ],
      "source": [
        "type(a)"
      ]
    },
    {
      "cell_type": "code",
      "execution_count": null,
      "metadata": {
        "id": "OhSLuwi0CTV7"
      },
      "outputs": [],
      "source": [
        "a = None"
      ]
    },
    {
      "cell_type": "code",
      "execution_count": null,
      "metadata": {
        "id": "U2APOES5CTV7",
        "outputId": "1fd0a420-55fd-486f-c93c-d38601064f52"
      },
      "outputs": [
        {
          "data": {
            "text/plain": [
              "NoneType"
            ]
          },
          "execution_count": 8,
          "metadata": {},
          "output_type": "execute_result"
        }
      ],
      "source": [
        "type(a)"
      ]
    },
    {
      "cell_type": "code",
      "execution_count": null,
      "metadata": {
        "id": "0O1AlCMhCTV7"
      },
      "outputs": [],
      "source": [
        "a = 1.0"
      ]
    },
    {
      "cell_type": "markdown",
      "metadata": {
        "id": "Ee1z9b7RCTV7"
      },
      "source": [
        "A conversão de tipos pode ser realizada de modo explícito com as funções str(), int(), float()"
      ]
    },
    {
      "cell_type": "code",
      "execution_count": null,
      "metadata": {
        "id": "28gQ-pIdCTV7",
        "outputId": "ab44687d-66b9-4683-ea8b-d5c71be6c1a3"
      },
      "outputs": [
        {
          "data": {
            "text/plain": [
              "'1 abcde'"
            ]
          },
          "execution_count": 5,
          "metadata": {},
          "output_type": "execute_result"
        }
      ],
      "source": [
        "str(1) + ' abcde'"
      ]
    },
    {
      "cell_type": "code",
      "execution_count": null,
      "metadata": {
        "id": "qDibPJG_CTV7",
        "outputId": "e6493abb-64bd-4751-8159-8e0898d308f7"
      },
      "outputs": [
        {
          "data": {
            "text/plain": [
              "1.8"
            ]
          },
          "execution_count": 11,
          "metadata": {},
          "output_type": "execute_result"
        }
      ],
      "source": [
        "float('1')+0.8"
      ]
    },
    {
      "cell_type": "markdown",
      "metadata": {
        "id": "wtZgWB7-CTV8"
      },
      "source": [
        "**Cuidado:** A conversão de float para int pode perder informação!"
      ]
    },
    {
      "cell_type": "code",
      "execution_count": null,
      "metadata": {
        "id": "FPqIVqMvCTV8",
        "outputId": "01c47cdb-f060-46fe-9601-e0615a807b13"
      },
      "outputs": [
        {
          "data": {
            "text/plain": [
              "1"
            ]
          },
          "execution_count": 12,
          "metadata": {},
          "output_type": "execute_result"
        }
      ],
      "source": [
        "int(1.99)"
      ]
    },
    {
      "cell_type": "markdown",
      "metadata": {
        "id": "J5FjZlRTCTV8"
      },
      "source": [
        "#### Bloco de Comandos e Comentários"
      ]
    },
    {
      "cell_type": "markdown",
      "metadata": {
        "id": "5DmdHNLBCTV8"
      },
      "source": [
        "O Python usa espaço em branco para definir os blocos de comandos. Os dois pontos (:) indicam o inicio de um bloco identado e todo código precisa serguir a mesma identação até o fim do bloco."
      ]
    },
    {
      "cell_type": "code",
      "execution_count": null,
      "metadata": {
        "id": "psUXCNM0CTV8",
        "outputId": "0803f59c-0e25-4048-b8ee-34e2663ae414"
      },
      "outputs": [
        {
          "name": "stdout",
          "output_type": "stream",
          "text": [
            "menor\n"
          ]
        }
      ],
      "source": [
        "if 1 < 3:\n",
        "    print('menor')\n",
        "else:\n",
        "    print('maior')"
      ]
    },
    {
      "cell_type": "markdown",
      "metadata": {
        "id": "KVMxkJDtCTV8"
      },
      "source": [
        "Também não é necessário encerrar uma linha de comando com ponto-e-virgula"
      ]
    },
    {
      "cell_type": "markdown",
      "metadata": {
        "id": "mn_LSQn5CTV8"
      },
      "source": [
        "O sinal de hash (#) é utilizado como marcador de comentário."
      ]
    },
    {
      "cell_type": "code",
      "execution_count": null,
      "metadata": {
        "id": "jn34x4w_CTV8"
      },
      "outputs": [],
      "source": [
        "# o simbolo de hash `#` inicia um comentário. O interpretador ignora a linha toda"
      ]
    },
    {
      "cell_type": "markdown",
      "metadata": {
        "id": "wLvw5S4VCTV9"
      },
      "source": [
        "Observe que não há saída ao executar a célula acima."
      ]
    },
    {
      "cell_type": "markdown",
      "metadata": {
        "id": "hcABG5BgCTV9"
      },
      "source": [
        "O comando `pass` indica que nada será executado. Serve para marcar um local em código onde um bloco deve existir, mas não há comandos."
      ]
    },
    {
      "cell_type": "code",
      "execution_count": null,
      "metadata": {
        "id": "qqB361b_CTV9"
      },
      "outputs": [],
      "source": [
        "pass"
      ]
    },
    {
      "cell_type": "markdown",
      "metadata": {
        "id": "d7vgOtqVCTV9"
      },
      "source": [
        "#### Objetos"
      ]
    },
    {
      "cell_type": "markdown",
      "metadata": {
        "id": "p5aMIwr6CTV9"
      },
      "source": [
        "Tudo é objeto em Python: números, strings, e até funções. Alguns objetos podem ser modificados, mas alguns são **imutáveis**. Um exemplo são as strings, que uma vez criadas, não podem ser modificadas."
      ]
    },
    {
      "cell_type": "markdown",
      "metadata": {
        "id": "XorEBtf2CTV9"
      },
      "source": [
        "No jupyter ou IPython, use <TAB> para autocompletar com atributos e métodos para objetos"
      ]
    },
    {
      "cell_type": "code",
      "execution_count": null,
      "metadata": {
        "id": "GwepDpw_CTV9"
      },
      "outputs": [],
      "source": [
        "a = 'ana'"
      ]
    },
    {
      "cell_type": "markdown",
      "metadata": {
        "id": "i3Fzjgc0CTV9"
      },
      "source": [
        "Escreva `a.` e presione 'TAB'. Um menu com todos os métodos é mostrado"
      ]
    },
    {
      "cell_type": "code",
      "execution_count": null,
      "metadata": {
        "id": "HVHzGg1hCTV-",
        "outputId": "320e8074-2a49-4655-fa71-608a61c8a5e6"
      },
      "outputs": [
        {
          "data": {
            "text/plain": [
              "'Ana'"
            ]
          },
          "execution_count": 22,
          "metadata": {},
          "output_type": "execute_result"
        }
      ],
      "source": [
        "a.capitalize() # na versão atual, o primeiro método mostrado é o capitalize()"
      ]
    },
    {
      "cell_type": "markdown",
      "metadata": {
        "id": "PsFOuD_wCTV-"
      },
      "source": [
        "#### Tipagem Fraca"
      ]
    },
    {
      "cell_type": "code",
      "execution_count": null,
      "metadata": {
        "id": "2ChTPXoZCTV-"
      },
      "outputs": [],
      "source": [
        "a = 5"
      ]
    },
    {
      "cell_type": "code",
      "execution_count": null,
      "metadata": {
        "id": "CE6vdqaWCTWJ",
        "outputId": "3d68d04d-a698-4464-c2f1-a1cdcd4dbdc1"
      },
      "outputs": [
        {
          "data": {
            "text/plain": [
              "int"
            ]
          },
          "execution_count": 19,
          "metadata": {},
          "output_type": "execute_result"
        }
      ],
      "source": [
        "type(a)"
      ]
    },
    {
      "cell_type": "markdown",
      "metadata": {
        "id": "kAXAKv-4CTWJ"
      },
      "source": [
        "Ao atribuir um novo valor, a variável passa a ter outro tipo."
      ]
    },
    {
      "cell_type": "code",
      "execution_count": null,
      "metadata": {
        "id": "VdXoktmCCTWJ"
      },
      "outputs": [],
      "source": [
        "a = 'foo'"
      ]
    },
    {
      "cell_type": "code",
      "execution_count": null,
      "metadata": {
        "id": "f_7iAb0jCTWJ",
        "outputId": "7ece76d2-bc28-4eef-bc2c-7876154f96ee"
      },
      "outputs": [
        {
          "data": {
            "text/plain": [
              "str"
            ]
          },
          "execution_count": 21,
          "metadata": {},
          "output_type": "execute_result"
        }
      ],
      "source": [
        "type(a)"
      ]
    },
    {
      "cell_type": "markdown",
      "metadata": {
        "id": "m4R0c3KTCTWK"
      },
      "source": [
        "A função **`isinstance()`** verifica se uma variável é de um tipo indicado em uma tupla passada como parâmetro"
      ]
    },
    {
      "cell_type": "code",
      "execution_count": null,
      "metadata": {
        "id": "QRASFew_CTWK",
        "outputId": "01e5fe93-3522-4125-c1ab-93cf6fed1931"
      },
      "outputs": [
        {
          "data": {
            "text/plain": [
              "True"
            ]
          },
          "execution_count": 27,
          "metadata": {},
          "output_type": "execute_result"
        }
      ],
      "source": [
        "isinstance(a,(int,str))"
      ]
    },
    {
      "cell_type": "markdown",
      "metadata": {
        "id": "kp6Pr7keCTWK"
      },
      "source": [
        "Apesar da tipagem fraca, Python evita conversão implícita de tipos"
      ]
    },
    {
      "cell_type": "code",
      "execution_count": null,
      "metadata": {
        "id": "NkjG9SFjCTWK",
        "outputId": "96fb9b30-e046-40e8-85fe-82f2bcf46576"
      },
      "outputs": [
        {
          "ename": "TypeError",
          "evalue": "can only concatenate str (not \"int\") to str",
          "output_type": "error",
          "traceback": [
            "\u001b[1;31m---------------------------------------------------------------------------\u001b[0m",
            "\u001b[1;31mTypeError\u001b[0m                                 Traceback (most recent call last)",
            "\u001b[1;32m<ipython-input-30-9e35a679fb6e>\u001b[0m in \u001b[0;36m<module>\u001b[1;34m\u001b[0m\n\u001b[1;32m----> 1\u001b[1;33m \u001b[1;34m'5'\u001b[0m\u001b[1;33m+\u001b[0m \u001b[1;36m5\u001b[0m \u001b[1;31m# gera erro de tipo\u001b[0m\u001b[1;33m\u001b[0m\u001b[1;33m\u001b[0m\u001b[0m\n\u001b[0m",
            "\u001b[1;31mTypeError\u001b[0m: can only concatenate str (not \"int\") to str"
          ]
        }
      ],
      "source": [
        "'5'+ 5 # gera erro de tipo"
      ]
    },
    {
      "cell_type": "code",
      "execution_count": null,
      "metadata": {
        "id": "sqZu9TCCCTWK",
        "outputId": "126d7b5f-83df-42c9-d348-90a3b66c5e3a"
      },
      "outputs": [
        {
          "ename": "TypeError",
          "evalue": "unsupported operand type(s) for +: 'int' and 'str'",
          "output_type": "error",
          "traceback": [
            "\u001b[1;31m---------------------------------------------------------------------------\u001b[0m",
            "\u001b[1;31mTypeError\u001b[0m                                 Traceback (most recent call last)",
            "\u001b[1;32m<ipython-input-31-1a91024124c5>\u001b[0m in \u001b[0;36m<module>\u001b[1;34m\u001b[0m\n\u001b[1;32m----> 1\u001b[1;33m \u001b[1;36m5\u001b[0m \u001b[1;33m+\u001b[0m \u001b[1;34m'5'\u001b[0m \u001b[1;31m# também gera erro de tipo\u001b[0m\u001b[1;33m\u001b[0m\u001b[1;33m\u001b[0m\u001b[0m\n\u001b[0m",
            "\u001b[1;31mTypeError\u001b[0m: unsupported operand type(s) for +: 'int' and 'str'"
          ]
        }
      ],
      "source": [
        "5 + '5' # também gera erro de tipo"
      ]
    },
    {
      "cell_type": "markdown",
      "metadata": {
        "id": "LEl6EqKwCTWL"
      },
      "source": [
        "#### Importação de módulos"
      ]
    },
    {
      "cell_type": "markdown",
      "metadata": {
        "id": "MTCNsgpSCTWL"
      },
      "source": [
        "Para importar um módulo:\n",
        "```\n",
        "import nome_do_modulo as apelido\n",
        "```\n",
        "Exemplo:\n",
        "```\n",
        "import numpy as np\n",
        "```"
      ]
    },
    {
      "cell_type": "markdown",
      "metadata": {
        "id": "KLF57WkVCTWL"
      },
      "source": [
        "Para utilizar uma variável ou função de um módulo importado use a notação de ponto (.) igual ao acesso de atributos e métodos de objetos.\n",
        "```\n",
        "nome_do_modulo.funcao()\n",
        "nome_do_modulo.variavel\n",
        "```\n",
        "Alternativamente, pode-se importar apenas algumas funções ou variáveis\n",
        "```\n",
        "from nome_do_modulo import func_1, ...,var_1, func_j, var_2, ...\n",
        "```\n"
      ]
    },
    {
      "cell_type": "markdown",
      "metadata": {
        "id": "uUwJLyjWCTWL"
      },
      "source": [
        "#### Doc ?"
      ]
    },
    {
      "cell_type": "markdown",
      "metadata": {
        "id": "2GwB9J7pCTWL"
      },
      "source": [
        "Use **`?`** para acesar o docstring de funções ou para inspecionar objetos."
      ]
    },
    {
      "cell_type": "code",
      "execution_count": null,
      "metadata": {
        "id": "Asfusm4jCTWM"
      },
      "outputs": [],
      "source": [
        "a?"
      ]
    },
    {
      "cell_type": "code",
      "execution_count": null,
      "metadata": {
        "id": "LLa-9LLmCTWM"
      },
      "outputs": [],
      "source": []
    },
    {
      "cell_type": "markdown",
      "metadata": {
        "id": "3siybt5eCTWM"
      },
      "source": [
        "#### Comparador is e =="
      ]
    },
    {
      "cell_type": "markdown",
      "metadata": {
        "id": "6-xm2hWbCTWM"
      },
      "source": [
        "O operador is testa se duas variáveis referenciam um mesmo objeto. Por outro lado, o comparador == testa apenas o conteúdo dos objetos referenciados pelas duas variáveis."
      ]
    },
    {
      "cell_type": "code",
      "execution_count": null,
      "metadata": {
        "id": "Kr8Lg-1jCTWM",
        "outputId": "435d57f0-97c8-4433-9e8c-ae05014b48e1"
      },
      "outputs": [
        {
          "data": {
            "text/plain": [
              "True"
            ]
          },
          "execution_count": 41,
          "metadata": {},
          "output_type": "execute_result"
        }
      ],
      "source": [
        "a = [1,2,3]\n",
        "b = a\n",
        "a is b"
      ]
    },
    {
      "cell_type": "markdown",
      "metadata": {
        "id": "C9V9KGccCTWN"
      },
      "source": [
        "Retorna True pois os valores dos objetos referenciados por a e b possuem o mesmo conteúdo."
      ]
    },
    {
      "cell_type": "code",
      "execution_count": null,
      "metadata": {
        "id": "eWK4FuSbCTWN",
        "outputId": "41fdc3a8-ce63-4073-ef16-1ce7def889af"
      },
      "outputs": [
        {
          "data": {
            "text/plain": [
              "True"
            ]
          },
          "execution_count": 42,
          "metadata": {},
          "output_type": "execute_result"
        }
      ],
      "source": [
        "a == b"
      ]
    },
    {
      "cell_type": "markdown",
      "metadata": {
        "id": "iIfHW-StCTWN"
      },
      "source": [
        "Se criarmos outro objeto para b, o resultado será diferente"
      ]
    },
    {
      "cell_type": "code",
      "execution_count": null,
      "metadata": {
        "id": "8y1fOpX-CTWN",
        "outputId": "7489d9ae-be91-48a1-950d-466f0b7e6303"
      },
      "outputs": [
        {
          "data": {
            "text/plain": [
              "False"
            ]
          },
          "execution_count": 43,
          "metadata": {},
          "output_type": "execute_result"
        }
      ],
      "source": [
        "b = [1,2,3]\n",
        "a is b"
      ]
    },
    {
      "cell_type": "markdown",
      "metadata": {
        "id": "2VgxghFOCTWN"
      },
      "source": [
        "A comparação a==b ainda retorna True, pois ambos os objetos, embora diferentes, possuem os mesmo valores."
      ]
    },
    {
      "cell_type": "code",
      "execution_count": null,
      "metadata": {
        "id": "PYl696rzCTWO",
        "outputId": "64ae063e-6655-4b9e-c004-c4270ccb96de"
      },
      "outputs": [
        {
          "data": {
            "text/plain": [
              "True"
            ]
          },
          "execution_count": 44,
          "metadata": {},
          "output_type": "execute_result"
        }
      ],
      "source": [
        "a == b"
      ]
    },
    {
      "cell_type": "markdown",
      "metadata": {
        "id": "QlLZnM2HCTWO"
      },
      "source": [
        "## Estruturas de Controle"
      ]
    },
    {
      "cell_type": "markdown",
      "metadata": {
        "id": "QV5vQzjXCTWO"
      },
      "source": [
        "A linguagem python apresenta controles de decisão (if) e dois laços (for e while).em python apresenta controles de decisão (if) e dois laços (for e while)."
      ]
    },
    {
      "cell_type": "markdown",
      "metadata": {
        "id": "l8YtYf1VCTWO"
      },
      "source": [
        "### Decisão com IF"
      ]
    },
    {
      "cell_type": "markdown",
      "metadata": {
        "id": "YxZCSkkcCTWO"
      },
      "source": [
        "```\n",
        "if condição:\n",
        "   # comando para primeira condição\n",
        "elif condição:\n",
        "   # comando para segunda condição\n",
        "else:\n",
        "   # comando para o caso default\n",
        "```"
      ]
    },
    {
      "cell_type": "markdown",
      "metadata": {
        "id": "hUv1534sCTWO"
      },
      "source": [
        "Exemplo de uso de if"
      ]
    },
    {
      "cell_type": "code",
      "execution_count": null,
      "metadata": {
        "id": "C_TZ-62qCTWO",
        "outputId": "cb7bdfda-8549-470d-efa0-8f66034f96ca"
      },
      "outputs": [
        {
          "name": "stdout",
          "output_type": "stream",
          "text": [
            "iguais\n"
          ]
        }
      ],
      "source": [
        "a=2\n",
        "b=2\n",
        "if a < b:\n",
        " print('menor')\n",
        " print('a')\n",
        "elif a > b:\n",
        "    print('maior')\n",
        "else:\n",
        "    print('iguais')"
      ]
    },
    {
      "cell_type": "markdown",
      "metadata": {
        "id": "J36omnRECTWP"
      },
      "source": [
        "### Laço For"
      ]
    },
    {
      "cell_type": "markdown",
      "metadata": {
        "id": "wSyWuehCCTWP"
      },
      "source": [
        "```\n",
        "for value in coleção:\n",
        "   # faça algo com o valor\n",
        "```"
      ]
    },
    {
      "cell_type": "markdown",
      "metadata": {
        "id": "IW5I4X7hCTWP"
      },
      "source": [
        "Exemplo de uso do for"
      ]
    },
    {
      "cell_type": "code",
      "execution_count": null,
      "metadata": {
        "id": "fvfFA0lsCTWP",
        "outputId": "73c1a71b-f34a-4618-adf6-6360952d1c49"
      },
      "outputs": [
        {
          "name": "stdout",
          "output_type": "stream",
          "text": [
            "1  2  3  4  5  "
          ]
        }
      ],
      "source": [
        "numeros = [1,2,3,4,5]\n",
        "for n in numeros:\n",
        "    print(n,end=\"  \") # o argumento end foi utilizado para substituir o default '\\n' por espaço em branco \" \""
      ]
    },
    {
      "cell_type": "markdown",
      "metadata": {
        "id": "M_V51eWVCTWP"
      },
      "source": [
        "### Laço While"
      ]
    },
    {
      "cell_type": "markdown",
      "metadata": {
        "id": "V8lqm9FNCTWP"
      },
      "source": [
        "```\n",
        "while condição:\n",
        "   # faça alguma coisa\n",
        "```"
      ]
    },
    {
      "cell_type": "code",
      "execution_count": null,
      "metadata": {
        "id": "atVi70ACCTWP",
        "outputId": "bac87efc-3bc9-40f7-d921-26728772a56d"
      },
      "outputs": [
        {
          "name": "stdout",
          "output_type": "stream",
          "text": [
            "1 2 3 4 5 fim\n"
          ]
        }
      ],
      "source": [
        "numeros = [1,2,3,4,5]\n",
        "n=0\n",
        "while n < len(numeros):\n",
        "    n+=1\n",
        "    print(n,end=' ')\n",
        "print('fim')"
      ]
    },
    {
      "cell_type": "code",
      "execution_count": null,
      "metadata": {
        "id": "knmDFw6lCTWQ",
        "outputId": "40dee8e6-706d-4880-8771-c887297b7bc5"
      },
      "outputs": [
        {
          "name": "stdout",
          "output_type": "stream",
          "text": [
            "8.485470860550365\n"
          ]
        }
      ],
      "source": [
        "max_iter=1000\n",
        "i=0\n",
        "soma = 1\n",
        "while i < max_iter:\n",
        "    i+=1\n",
        "    soma+=1/i\n",
        "print(soma)"
      ]
    },
    {
      "cell_type": "markdown",
      "metadata": {
        "id": "fit_VXbcCTWQ"
      },
      "source": [
        "Os comandos `continue` e `break` alteram a execução de um laço."
      ]
    },
    {
      "cell_type": "code",
      "execution_count": null,
      "metadata": {
        "id": "cIfCsxgZCTWQ",
        "outputId": "fd74f110-fd90-4d2c-e550-feb084ca9cb3"
      },
      "outputs": [
        {
          "name": "stdout",
          "output_type": "stream",
          "text": [
            "1 3 5 "
          ]
        }
      ],
      "source": [
        "numeros = [1,2,3,4,5]\n",
        "n=0\n",
        "while n < len(numeros):\n",
        "    n+=1\n",
        "    if n%2 == 0:\n",
        "        continue # interrompe a iteração atual e recomeça pelo teste da variável de controle\n",
        "    print(n,end=' ')"
      ]
    },
    {
      "cell_type": "code",
      "execution_count": null,
      "metadata": {
        "id": "NOGkkJm1CTWQ",
        "outputId": "a109218b-4a50-4682-aa6e-6c9694a8e8f6"
      },
      "outputs": [
        {
          "name": "stdout",
          "output_type": "stream",
          "text": [
            "1 2 "
          ]
        }
      ],
      "source": [
        "numeros = [1,2,3,4,5]\n",
        "n=0\n",
        "while n < len(numeros):\n",
        "    n+=1\n",
        "    if n==3:\n",
        "        break # interrompe o laço completamente\n",
        "    print(n,end=' ')"
      ]
    },
    {
      "cell_type": "markdown",
      "metadata": {
        "id": "n8YWhDTlCTWR"
      },
      "source": [
        "A função **range()** é utilizada frequentemente em conjunto com o **for**. `range()` retorna um iterador que gera uma sequencia de inteiros com espaçamento igual.\n",
        "```\n",
        "range(start, stop[, step])\n",
        "```"
      ]
    },
    {
      "cell_type": "code",
      "execution_count": null,
      "metadata": {
        "id": "oMgheBucCTWR",
        "outputId": "b15f4e55-a515-4fc5-8e66-75f18dd31160"
      },
      "outputs": [
        {
          "data": {
            "text/plain": [
              "[0, 1, 2, 3, 4, 5, 6, 7, 8, 9]"
            ]
          },
          "execution_count": 35,
          "metadata": {},
          "output_type": "execute_result"
        }
      ],
      "source": [
        "list(range(10))"
      ]
    },
    {
      "cell_type": "code",
      "execution_count": null,
      "metadata": {
        "id": "sg4m_7XxCTWR",
        "outputId": "8263b05e-fce5-4179-dbc9-808535f60341"
      },
      "outputs": [
        {
          "data": {
            "text/plain": [
              "[3, 5, 7, 9]"
            ]
          },
          "execution_count": 36,
          "metadata": {},
          "output_type": "execute_result"
        }
      ],
      "source": [
        "list(range(3,10,2))"
      ]
    },
    {
      "cell_type": "code",
      "execution_count": null,
      "metadata": {
        "id": "Vfx1479cCTWR",
        "outputId": "1b75b305-3320-467d-bb28-c60dffbcb539"
      },
      "outputs": [
        {
          "name": "stdout",
          "output_type": "stream",
          "text": [
            "0 1 2 3 4 5 6 7 8 9 "
          ]
        }
      ],
      "source": [
        "for n in range(10):\n",
        "    print(n,end=\" \")"
      ]
    },
    {
      "cell_type": "markdown",
      "metadata": {
        "id": "e570lyKZCTWR"
      },
      "source": [
        "Consulte o docstring com **range?** para maiores informações"
      ]
    },
    {
      "cell_type": "markdown",
      "metadata": {
        "id": "Jpnzlkj9CTWR"
      },
      "source": [
        "## Estruturas de Dados"
      ]
    },
    {
      "cell_type": "markdown",
      "metadata": {
        "id": "mj78zEiNCTWS"
      },
      "source": [
        "O python oferece as seguintes estruturas de dados: tuplas, listas, conjuntos e dicionários."
      ]
    },
    {
      "cell_type": "markdown",
      "metadata": {
        "id": "eqERsVayCTWS"
      },
      "source": [
        "### Tuplas"
      ]
    },
    {
      "cell_type": "markdown",
      "metadata": {
        "id": "f4bzFDVYCTWS"
      },
      "source": [
        "Uma tupla é uma sequencia imutável de objetos."
      ]
    },
    {
      "cell_type": "markdown",
      "metadata": {
        "id": "l1f5DJbBCTWS"
      },
      "source": [
        "O modo mais simples de criar uma tupla é informar os valores separados por vírgula"
      ]
    },
    {
      "cell_type": "code",
      "execution_count": null,
      "metadata": {
        "id": "_Cdm1R7pCTWS"
      },
      "outputs": [],
      "source": [
        "t = 1,2,3,4,5"
      ]
    },
    {
      "cell_type": "code",
      "execution_count": null,
      "metadata": {
        "id": "X_fQ_3dVCTWS",
        "outputId": "deb6e175-b5d5-4ecb-d8d1-33c3f969c736"
      },
      "outputs": [
        {
          "data": {
            "text/plain": [
              "(1, 2, 3, 4, 5)"
            ]
          },
          "execution_count": 39,
          "metadata": {},
          "output_type": "execute_result"
        }
      ],
      "source": [
        "t"
      ]
    },
    {
      "cell_type": "markdown",
      "metadata": {
        "id": "wwIaAT5RCTWS"
      },
      "source": [
        "Podemos criar tuplas compostas indicando a estrutura através de parêntesis"
      ]
    },
    {
      "cell_type": "code",
      "execution_count": null,
      "metadata": {
        "id": "-OV1WfJuCTWT"
      },
      "outputs": [],
      "source": [
        "t= (1,2,3),(4,5)"
      ]
    },
    {
      "cell_type": "code",
      "execution_count": null,
      "metadata": {
        "id": "y-foTTswCTWT",
        "outputId": "22da610d-45a2-4472-8bdf-57f47d61c36a"
      },
      "outputs": [
        {
          "data": {
            "text/plain": [
              "((1, 2, 3), (4, 5))"
            ]
          },
          "execution_count": 41,
          "metadata": {},
          "output_type": "execute_result"
        }
      ],
      "source": [
        "t"
      ]
    },
    {
      "cell_type": "markdown",
      "metadata": {
        "id": "jeD_yl4aCTWT"
      },
      "source": [
        "É possível criar tuplas a partir de listas e iteradores utilizando a função tuple()."
      ]
    },
    {
      "cell_type": "code",
      "execution_count": null,
      "metadata": {
        "id": "hR8oCPI5CTWT",
        "outputId": "6a68fb7f-13e3-4fe6-afcc-895d76fc115a"
      },
      "outputs": [
        {
          "data": {
            "text/plain": [
              "(0, 1, 2, 3, 4, 5, 6, 7, 8, 9)"
            ]
          },
          "execution_count": 42,
          "metadata": {},
          "output_type": "execute_result"
        }
      ],
      "source": [
        "t= tuple(range(10))\n",
        "t"
      ]
    },
    {
      "cell_type": "markdown",
      "metadata": {
        "id": "NNdqUddnCTWT"
      },
      "source": [
        "Também podemos criar uma tupla a partir de uma string."
      ]
    },
    {
      "cell_type": "code",
      "execution_count": null,
      "metadata": {
        "id": "6qX-7VnFCTWT",
        "outputId": "be7c49d9-4162-417a-b3bf-6093817c1c01"
      },
      "outputs": [
        {
          "data": {
            "text/plain": [
              "('h', 'e', 'l', 'l', 'o', ' ', 'w', 'o', 'r', 'l', 'd')"
            ]
          },
          "execution_count": 43,
          "metadata": {},
          "output_type": "execute_result"
        }
      ],
      "source": [
        "t = tuple('hello world')\n",
        "t"
      ]
    },
    {
      "cell_type": "markdown",
      "metadata": {
        "id": "Y9HCsRWICTWT"
      },
      "source": [
        "Elementos são acessados com colchetes []."
      ]
    },
    {
      "cell_type": "code",
      "execution_count": null,
      "metadata": {
        "id": "rXltQLf0CTWU",
        "outputId": "0d4bc0ed-b99d-4ab9-8ff7-49359dbdd1f7"
      },
      "outputs": [
        {
          "data": {
            "text/plain": [
              "'e'"
            ]
          },
          "execution_count": 44,
          "metadata": {},
          "output_type": "execute_result"
        }
      ],
      "source": [
        "t[1]"
      ]
    },
    {
      "cell_type": "markdown",
      "metadata": {
        "id": "fmPm9qnkCTWU"
      },
      "source": [
        "Tuplas são imutáveis. Por isso, os objetos referenciados em cada posição não podem ser trocados por outro."
      ]
    },
    {
      "cell_type": "code",
      "execution_count": null,
      "metadata": {
        "id": "pDpU5BswCTWU",
        "outputId": "85d1efe0-ad21-4fa0-9323-8718cb10732a"
      },
      "outputs": [
        {
          "ename": "TypeError",
          "evalue": "'tuple' object does not support item assignment",
          "output_type": "error",
          "traceback": [
            "\u001b[1;31m---------------------------------------------------------------------------\u001b[0m",
            "\u001b[1;31mTypeError\u001b[0m                                 Traceback (most recent call last)",
            "\u001b[1;32m<ipython-input-45-e9d3ad28b410>\u001b[0m in \u001b[0;36m<module>\u001b[1;34m\u001b[0m\n\u001b[1;32m----> 1\u001b[1;33m \u001b[0mt\u001b[0m\u001b[1;33m[\u001b[0m\u001b[1;36m0\u001b[0m\u001b[1;33m]\u001b[0m\u001b[1;33m=\u001b[0m\u001b[1;34m'H'\u001b[0m \u001b[1;31m# gera erro já que tuplas são imutáveis\u001b[0m\u001b[1;33m\u001b[0m\u001b[1;33m\u001b[0m\u001b[0m\n\u001b[0m",
            "\u001b[1;31mTypeError\u001b[0m: 'tuple' object does not support item assignment"
          ]
        }
      ],
      "source": [
        "t[0]='H' # gera erro já que tuplas são imutáveis"
      ]
    },
    {
      "cell_type": "markdown",
      "metadata": {
        "id": "-g_EK79HCTWU"
      },
      "source": [
        "O operador + concatena tuplas."
      ]
    },
    {
      "cell_type": "code",
      "execution_count": null,
      "metadata": {
        "id": "Vr6OMgU7CTWU",
        "outputId": "d21a88a8-ec4c-4987-d750-3840c2d1ebe5"
      },
      "outputs": [
        {
          "data": {
            "text/plain": [
              "('h', 'e', 'l', 'l', 'o', ' ', 'w', 'o', 'r', 'l', 'd', 'a', 'b', 'c')"
            ]
          },
          "execution_count": 46,
          "metadata": {},
          "output_type": "execute_result"
        }
      ],
      "source": [
        "u='a','b','c'\n",
        "v=t+u\n",
        "v"
      ]
    },
    {
      "cell_type": "markdown",
      "metadata": {
        "id": "oVBdEzHNCTWU"
      },
      "source": [
        "**Empacotamento** é a atribuição de uma tupla para uma variável. Ao atribuir uma tupla para uma variável, chamamos de **desempacotamento**."
      ]
    },
    {
      "cell_type": "code",
      "execution_count": null,
      "metadata": {
        "id": "tZ4xTR6tCTWU"
      },
      "outputs": [],
      "source": [
        "t= (1,2,3) # empacotar\n",
        "x,y,z = t # desempactar"
      ]
    },
    {
      "cell_type": "code",
      "execution_count": null,
      "metadata": {
        "id": "wCPPh_e4CTWV",
        "outputId": "2f4c3c78-5e70-43e7-c855-4d46b4ecaf37"
      },
      "outputs": [
        {
          "data": {
            "text/plain": [
              "1"
            ]
          },
          "execution_count": 48,
          "metadata": {},
          "output_type": "execute_result"
        }
      ],
      "source": [
        "x"
      ]
    },
    {
      "cell_type": "markdown",
      "metadata": {
        "id": "rrdf-yEVCTWV"
      },
      "source": [
        "Com o conceito de tuplas, pode-se fazer a troca de valores entre duas variáveis sem precisar declarar uma terceira variável."
      ]
    },
    {
      "cell_type": "code",
      "execution_count": null,
      "metadata": {
        "id": "G6gaFV01CTWV"
      },
      "outputs": [],
      "source": [
        "a,b=1,2\n"
      ]
    },
    {
      "cell_type": "code",
      "execution_count": null,
      "metadata": {
        "id": "25lJu-XoCTWV",
        "outputId": "208dd0a0-6190-40bc-9236-065ee5b3b2ad"
      },
      "outputs": [
        {
          "data": {
            "text/plain": [
              "(1, 2)"
            ]
          },
          "execution_count": 50,
          "metadata": {},
          "output_type": "execute_result"
        }
      ],
      "source": [
        "a,b"
      ]
    },
    {
      "cell_type": "code",
      "execution_count": null,
      "metadata": {
        "id": "0xp7JzoHCTWV"
      },
      "outputs": [],
      "source": [
        "b,a=a,b"
      ]
    },
    {
      "cell_type": "code",
      "execution_count": null,
      "metadata": {
        "id": "69-AD1q6CTWV",
        "outputId": "951d235e-b81e-4d91-8945-875632d081c1"
      },
      "outputs": [
        {
          "data": {
            "text/plain": [
              "(2, 1)"
            ]
          },
          "execution_count": 52,
          "metadata": {},
          "output_type": "execute_result"
        }
      ],
      "source": [
        "a,b"
      ]
    },
    {
      "cell_type": "markdown",
      "metadata": {
        "id": "IrsaZDhwCTWV"
      },
      "source": [
        "Outro conceito muito útil em Python é o **fatiamento** (*slicing*). Um fatiamento retorna uma subsequencia da estrutura indicados pela posição inicial e final entre colchetes."
      ]
    },
    {
      "cell_type": "code",
      "execution_count": null,
      "metadata": {
        "id": "vDewZxIdCTWW",
        "outputId": "661e0c5f-dfca-4f65-88f6-ee6403dd4d17"
      },
      "outputs": [
        {
          "data": {
            "text/plain": [
              "(18, 'SI')"
            ]
          },
          "execution_count": 53,
          "metadata": {},
          "output_type": "execute_result"
        }
      ],
      "source": [
        "t= ('Joao', 18, 'SI', 12, 45)\n",
        "s = t[1:3]  # s será um slice com os elementos 1 e 2. Note que o primeiro elemento é 0.\n",
        "s\n"
      ]
    },
    {
      "cell_type": "markdown",
      "metadata": {
        "id": "3fzSCIG9CTWW"
      },
      "source": [
        "### Listas"
      ]
    },
    {
      "cell_type": "markdown",
      "metadata": {
        "id": "Fyd1gk-bCTWW"
      },
      "source": [
        "Listas são sequencias mutáveis de objetos. Ao contrário de tuplas, as listas podem ser modificadas após a sua criação."
      ]
    },
    {
      "cell_type": "code",
      "execution_count": null,
      "metadata": {
        "id": "pCB8Dh5ICTWW"
      },
      "outputs": [],
      "source": [
        "a = [1,2,3,'Ana',None]"
      ]
    },
    {
      "cell_type": "code",
      "execution_count": null,
      "metadata": {
        "id": "uJqtJPU9CTWW",
        "outputId": "c7d71a75-dcc6-43b8-cce3-25655ad42257"
      },
      "outputs": [
        {
          "data": {
            "text/plain": [
              "[1, 2, 3, 'Ana', None]"
            ]
          },
          "execution_count": 55,
          "metadata": {},
          "output_type": "execute_result"
        }
      ],
      "source": [
        "a"
      ]
    },
    {
      "cell_type": "markdown",
      "metadata": {
        "id": "0J7ohK3NCTWW"
      },
      "source": [
        "Uma lista pode ser criada a partir de uma tupla. Neste caso a lista pode ser modificada, mas a tupla continua imutável."
      ]
    },
    {
      "cell_type": "code",
      "execution_count": null,
      "metadata": {
        "id": "NNe-iOJKCTWW"
      },
      "outputs": [],
      "source": [
        "t = ('ana', 'bia', 'carlos')"
      ]
    },
    {
      "cell_type": "code",
      "execution_count": null,
      "metadata": {
        "id": "Y2wh9PbJCTWX",
        "outputId": "b07dbe47-600f-4006-bb6e-746458ff3d4b"
      },
      "outputs": [
        {
          "name": "stdout",
          "output_type": "stream",
          "text": [
            "('ana', 'bia', 'carlos')\n"
          ]
        }
      ],
      "source": [
        "b = list(t)\n",
        "print(t)"
      ]
    },
    {
      "cell_type": "code",
      "execution_count": null,
      "metadata": {
        "id": "M_cRNuuiCTWX",
        "outputId": "0b761976-421a-4955-9ed9-abacf2c1ada6"
      },
      "outputs": [
        {
          "data": {
            "text/plain": [
              "['ana', 'bia', 'carlos']"
            ]
          },
          "execution_count": 58,
          "metadata": {},
          "output_type": "execute_result"
        }
      ],
      "source": [
        "b"
      ]
    },
    {
      "cell_type": "code",
      "execution_count": null,
      "metadata": {
        "id": "FW7rhuo1CTWX",
        "outputId": "ee5a1c7c-abfe-4d5e-b659-9a5553c7610f"
      },
      "outputs": [
        {
          "data": {
            "text/plain": [
              "['ana', 'diego', 'carlos']"
            ]
          },
          "execution_count": 59,
          "metadata": {},
          "output_type": "execute_result"
        }
      ],
      "source": [
        "b[1]='diego'\n",
        "b"
      ]
    },
    {
      "cell_type": "markdown",
      "metadata": {
        "id": "tiUf6FqfCTWX"
      },
      "source": [
        "Os principais métodos do objeto list são os seguintes:\n",
        "- `append()`\tinsere um elemento no final da lista\n",
        "- `insert()` \tinsere um elemento em uma posição informada\n",
        "- `pop()` \t\tremove um elemento de uma posição, ou o último\n",
        "- `remove()`\tremove a primeira instância de um valor informado\n",
        "- `sort()`\t\tordena os elementos da lista"
      ]
    },
    {
      "cell_type": "markdown",
      "metadata": {
        "id": "J-uLdzCHCTWX"
      },
      "source": [
        "Perceba que `pop()` possui um parâmetro opcional de posição. Se não for informada uma posição, então o último elemento será removido."
      ]
    },
    {
      "cell_type": "markdown",
      "metadata": {
        "id": "mPxzlMhhCTWY"
      },
      "source": [
        "Dada uma lista, a palavra reservada `in` verifica se um determinado elemento está contido na lista."
      ]
    },
    {
      "cell_type": "code",
      "execution_count": null,
      "metadata": {
        "id": "c8u9ZVo0CTWY",
        "outputId": "379bba94-b0ea-49de-b58f-c590cf29dea3"
      },
      "outputs": [
        {
          "data": {
            "text/plain": [
              "True"
            ]
          },
          "execution_count": 60,
          "metadata": {},
          "output_type": "execute_result"
        }
      ],
      "source": [
        "'diego' in b"
      ]
    },
    {
      "cell_type": "markdown",
      "metadata": {
        "id": "C_rOkiGLCTWY"
      },
      "source": [
        "O operador `+` concatena duas listas"
      ]
    },
    {
      "cell_type": "code",
      "execution_count": null,
      "metadata": {
        "id": "8yJqvJqzCTWY"
      },
      "outputs": [],
      "source": [
        "c = ['paula', 'marcelo']\n",
        "d = b + c +b"
      ]
    },
    {
      "cell_type": "code",
      "execution_count": null,
      "metadata": {
        "id": "lfwIlbqICTWY",
        "outputId": "34cc26fc-1543-4579-9c37-e413bd497ae2"
      },
      "outputs": [
        {
          "data": {
            "text/plain": [
              "['ana', 'diego', 'carlos', 'paula', 'marcelo', 'ana', 'diego', 'carlos']"
            ]
          },
          "execution_count": 62,
          "metadata": {},
          "output_type": "execute_result"
        }
      ],
      "source": [
        "d"
      ]
    },
    {
      "cell_type": "markdown",
      "metadata": {
        "id": "77SY5NQTCTWZ"
      },
      "source": [
        "As listas também permitem *slicing* do mesmo modo que tuplas."
      ]
    },
    {
      "cell_type": "code",
      "execution_count": null,
      "metadata": {
        "id": "ra77Y2SfCTWZ",
        "outputId": "0b7cf0c8-96e3-48f9-c524-a5c0bd2ce440"
      },
      "outputs": [
        {
          "data": {
            "text/plain": [
              "['carlos', 'fred']"
            ]
          },
          "execution_count": 63,
          "metadata": {},
          "output_type": "execute_result"
        }
      ],
      "source": [
        "a = ['ana', 'diego', 'carlos', 'fred', 'joao']\n",
        "a[2:4]"
      ]
    },
    {
      "cell_type": "markdown",
      "metadata": {
        "id": "qjkBz-NLCTWZ"
      },
      "source": [
        "#### Funções úteis para listas"
      ]
    },
    {
      "cell_type": "markdown",
      "metadata": {
        "id": "19a6SdMiCTWZ"
      },
      "source": [
        "Algumas funções úteis para listas são: `enumerate()`, `sorted()`, `zip()` e `reversed()`"
      ]
    },
    {
      "cell_type": "markdown",
      "metadata": {
        "id": "NsDbjRonCTWZ"
      },
      "source": [
        "A função `enumerate()` produz um gerador de tuplas no formato (int, value). Ela é útil para controlar o indice de um iterador. Podemos com essa função fazer um laço sem nos preocuparmos com o indice."
      ]
    },
    {
      "cell_type": "markdown",
      "metadata": {
        "id": "oUqFJN97CTWa"
      },
      "source": [
        "Desse modo, não é necessário fazer laços gerando um range com o tamanho da lista explicitamente:"
      ]
    },
    {
      "cell_type": "code",
      "execution_count": null,
      "metadata": {
        "id": "PGMNs4O3CTWa",
        "outputId": "da440b9e-c4c2-43ae-f4b2-c482018ccf9e"
      },
      "outputs": [
        {
          "name": "stdout",
          "output_type": "stream",
          "text": [
            "0:Bob\n",
            "1:Alice\n",
            "2:Guido\n"
          ]
        }
      ],
      "source": [
        "names = ['Bob', 'Alice', 'Guido']\n",
        "for i in range(len(names)):\n",
        "    print(f'{i}:{names[i]}')"
      ]
    },
    {
      "cell_type": "markdown",
      "metadata": {
        "id": "Otwd8gzHCTWa"
      },
      "source": [
        "Ao invés disso, podemos fazer:"
      ]
    },
    {
      "cell_type": "code",
      "execution_count": null,
      "metadata": {
        "id": "CGFteZFUCTWb",
        "outputId": "cf112938-1323-4e64-ce7d-e9b6ec959372"
      },
      "outputs": [
        {
          "name": "stdout",
          "output_type": "stream",
          "text": [
            "0: Bob\n",
            "1: Alice\n",
            "2: Guido\n"
          ]
        }
      ],
      "source": [
        "names = ['Bob', 'Alice', 'Guido']\n",
        "for index, value in enumerate(names):\n",
        "    print(f'{index}: {value}')"
      ]
    },
    {
      "cell_type": "code",
      "execution_count": null,
      "metadata": {
        "id": "fODVuEj6CTWb",
        "outputId": "675ab1c7-ad51-4a0c-d19f-c6cb7eae511e"
      },
      "outputs": [
        {
          "data": {
            "text/plain": [
              "[(0, 'Bob'), (1, 'Alice'), (2, 'Guido')]"
            ]
          },
          "execution_count": 66,
          "metadata": {},
          "output_type": "execute_result"
        }
      ],
      "source": [
        "list(enumerate(names))"
      ]
    },
    {
      "cell_type": "code",
      "execution_count": null,
      "metadata": {
        "id": "O6WJD4WcCTWb",
        "outputId": "b923fb87-da96-40f9-e8f8-a38dd378baa3"
      },
      "outputs": [
        {
          "name": "stdout",
          "output_type": "stream",
          "text": [
            "0 : ana\n",
            "1 : diego\n",
            "2 : carlos\n",
            "3 : fred\n",
            "4 : joao\n"
          ]
        }
      ],
      "source": [
        "for i,n in enumerate(a):\n",
        "    print (i,\":\",n)"
      ]
    },
    {
      "cell_type": "markdown",
      "metadata": {
        "id": "OzW4I0hRCTWc"
      },
      "source": [
        "A função `sorted()` produz uma nova lista com os valores da lista original ordenados. A lista original não é modificada pela função sorted()."
      ]
    },
    {
      "cell_type": "code",
      "execution_count": null,
      "metadata": {
        "id": "fHUcgGBICTWc",
        "outputId": "7a672cc6-2a48-41d2-db20-d41e0b207c57"
      },
      "outputs": [
        {
          "name": "stdout",
          "output_type": "stream",
          "text": [
            "[8, 3, 7, 1, 0, 2, 6]\n",
            "[0, 1, 2, 3, 6, 7, 8]\n"
          ]
        }
      ],
      "source": [
        "a = [8,3,7,1,0,2,6]\n",
        "a_s = sorted(a)\n",
        "print(a)\n",
        "print(a_s)"
      ]
    },
    {
      "cell_type": "markdown",
      "metadata": {
        "id": "VhRiz3wvCTWc"
      },
      "source": [
        "A função `zip()` produz um iterador com elementos de duas listas distintas. Com este iterador, você pode construir uma lista,  tupla ou um dicionário."
      ]
    },
    {
      "cell_type": "code",
      "execution_count": null,
      "metadata": {
        "id": "G_BlJcMMCTWc",
        "outputId": "a390cfe1-f824-489c-f9d3-2865335bd54f"
      },
      "outputs": [
        {
          "data": {
            "text/plain": [
              "[(8, 'a'), (3, 'b'), (7, 'c'), (1, 'd'), (0, 'e'), (2, 'f'), (6, 'g')]"
            ]
          },
          "execution_count": 69,
          "metadata": {},
          "output_type": "execute_result"
        }
      ],
      "source": [
        "a = [8,3,7,1,0,2,6]\n",
        "b = ['a','b','c','d','e','f','g']\n",
        "c=zip(a,b)\n",
        "list(c) # ou dict(c), tuple(c)\n",
        "#print(list(enumerate(b)))"
      ]
    },
    {
      "cell_type": "markdown",
      "metadata": {
        "id": "4_SJan-5CTWc"
      },
      "source": [
        "A função reversed() produz um iterador que percorre uma lista na ordem inversa."
      ]
    },
    {
      "cell_type": "code",
      "execution_count": null,
      "metadata": {
        "id": "l6obIfYQCTWc",
        "outputId": "869fdfee-5b8a-41c6-ea84-337fe8043c7e"
      },
      "outputs": [
        {
          "data": {
            "text/plain": [
              "['g', 'f', 'e', 'd', 'c', 'b', 'a']"
            ]
          },
          "execution_count": 70,
          "metadata": {},
          "output_type": "execute_result"
        }
      ],
      "source": [
        "b = ['a','b','c','d','e','f','g']\n",
        "c = reversed(b)\n",
        "list(c)"
      ]
    },
    {
      "cell_type": "markdown",
      "metadata": {
        "id": "DX50Jhk8CTWd"
      },
      "source": [
        "### Conjuntos"
      ]
    },
    {
      "cell_type": "markdown",
      "metadata": {
        "id": "Q9Flg2MQCTWd"
      },
      "source": [
        "Um conjunto é uma sequencia não ordenada de objetos únicos. Para criar um conjunto declaramos uma sequencia de elementos entre chaves {} e separados por vírgula.\n"
      ]
    },
    {
      "cell_type": "code",
      "execution_count": null,
      "metadata": {
        "id": "liT6d4giCTWd",
        "outputId": "3bb9bd2b-f1fd-4333-8fd8-9ac281c43c10"
      },
      "outputs": [
        {
          "data": {
            "text/plain": [
              "{1, 2, 3, 4, 5}"
            ]
          },
          "execution_count": 71,
          "metadata": {},
          "output_type": "execute_result"
        }
      ],
      "source": [
        "c = {1,2,3,4,5}\n",
        "c"
      ]
    },
    {
      "cell_type": "code",
      "execution_count": null,
      "metadata": {
        "id": "g7yT7QQMCTWd",
        "outputId": "6849c512-0456-439d-ea52-4b7864194cc1"
      },
      "outputs": [
        {
          "data": {
            "text/plain": [
              "set"
            ]
          },
          "execution_count": 72,
          "metadata": {},
          "output_type": "execute_result"
        }
      ],
      "source": [
        "type(c)"
      ]
    },
    {
      "cell_type": "markdown",
      "metadata": {
        "id": "urId0-i3CTWd"
      },
      "source": [
        "Alternativamente, pode-se criar um conjunto a partir de um iterador utilizando a função set()"
      ]
    },
    {
      "cell_type": "code",
      "execution_count": null,
      "metadata": {
        "id": "5Ak1HaAqCTWe",
        "outputId": "5a580872-efbb-486a-b872-ff4978390bcf"
      },
      "outputs": [
        {
          "data": {
            "text/plain": [
              "{6, 7, 8}"
            ]
          },
          "execution_count": 73,
          "metadata": {},
          "output_type": "execute_result"
        }
      ],
      "source": [
        "set([6,7,8])"
      ]
    },
    {
      "cell_type": "markdown",
      "metadata": {
        "id": "34Wgfie1CTWe"
      },
      "source": [
        "**Atenção:** Caso você queira criar um conjunto vazio, não use {}, pois este comando cria um dicionário vazio. Para criar um conjunto vazio utilize a função set() sem parâmetros.  "
      ]
    },
    {
      "cell_type": "code",
      "execution_count": null,
      "metadata": {
        "id": "DsDxpImMCTWe"
      },
      "outputs": [],
      "source": [
        "d = {} # CUIDADO! Cria um dicionário, não um conjunto vazio!"
      ]
    },
    {
      "cell_type": "code",
      "execution_count": null,
      "metadata": {
        "id": "Edrvu3GXCTWe",
        "outputId": "b1a1783e-dca4-4a49-839b-3eeb1dc44a14"
      },
      "outputs": [
        {
          "data": {
            "text/plain": [
              "dict"
            ]
          },
          "execution_count": 75,
          "metadata": {},
          "output_type": "execute_result"
        }
      ],
      "source": [
        "type(d) # não é um conjunto!"
      ]
    },
    {
      "cell_type": "markdown",
      "metadata": {
        "id": "nlFJVUQWCTWe"
      },
      "source": [
        "Python suporta as principais operações matemáticas sobre conjuntos tais como união, interseção, diferença, etc."
      ]
    },
    {
      "cell_type": "code",
      "execution_count": null,
      "metadata": {
        "id": "XGKwWkOtCTWe"
      },
      "outputs": [],
      "source": [
        "d = {3,5,8,9}"
      ]
    },
    {
      "cell_type": "code",
      "execution_count": null,
      "metadata": {
        "id": "HZXHlZ7CCTWe",
        "outputId": "7ed7d2b6-415e-4819-8699-8d11231f8165"
      },
      "outputs": [
        {
          "data": {
            "text/plain": [
              "{3, 5}"
            ]
          },
          "execution_count": 77,
          "metadata": {},
          "output_type": "execute_result"
        }
      ],
      "source": [
        "c.intersection(d)\n"
      ]
    },
    {
      "cell_type": "code",
      "execution_count": null,
      "metadata": {
        "id": "pu0qg5QBCTWe",
        "outputId": "c3e83e0d-6c64-42eb-f1f1-837c86d57514"
      },
      "outputs": [
        {
          "data": {
            "text/plain": [
              "{1, 2, 3, 4, 5, 8, 9}"
            ]
          },
          "execution_count": 78,
          "metadata": {},
          "output_type": "execute_result"
        }
      ],
      "source": [
        "c.union(d)\n"
      ]
    },
    {
      "cell_type": "code",
      "execution_count": null,
      "metadata": {
        "id": "HwLKSdjqCTWf",
        "outputId": "076c2de7-ce5c-4048-fa43-6002bde69a43"
      },
      "outputs": [
        {
          "data": {
            "text/plain": [
              "{1, 2, 4}"
            ]
          },
          "execution_count": 79,
          "metadata": {},
          "output_type": "execute_result"
        }
      ],
      "source": [
        "c.difference(d)"
      ]
    },
    {
      "cell_type": "markdown",
      "metadata": {
        "id": "p-7J1oydCTWf"
      },
      "source": [
        "### Dicionários"
      ]
    },
    {
      "cell_type": "markdown",
      "metadata": {
        "id": "BSOO42yMCTWf"
      },
      "source": [
        "Um dicionário é um conjunto de pares chave-valor. Internamente o dicionário é implementado com uma tabela hash aprimorada para melhorar a taxa de colisão e manter o tempo de busca."
      ]
    },
    {
      "cell_type": "markdown",
      "metadata": {
        "id": "q4fsNVzeCTWf"
      },
      "source": [
        "Uma **chave** só pode ser um objeto imutável tais como int, float, ou string. Um **valor** pode ser qualquer objeto Python. Uma tupla pode servir como chave, mas seus elementos tem que ser todos imutáveis."
      ]
    },
    {
      "cell_type": "code",
      "execution_count": null,
      "metadata": {
        "id": "1bzZpiUZCTWf"
      },
      "outputs": [],
      "source": [
        "d = dict()"
      ]
    },
    {
      "cell_type": "markdown",
      "metadata": {
        "id": "wVQD0Xl0CTWf"
      },
      "source": [
        "Também é possível criar um dicionário apenas utilizand a notação de chaves `{}`"
      ]
    },
    {
      "cell_type": "code",
      "execution_count": null,
      "metadata": {
        "id": "8bjkovblCTWg"
      },
      "outputs": [],
      "source": [
        "d = {}"
      ]
    },
    {
      "cell_type": "markdown",
      "metadata": {
        "id": "R2KIQhRfCTWg"
      },
      "source": [
        "A função enumerate pode ser util para criar as chaves para os valores de uma lista."
      ]
    },
    {
      "cell_type": "code",
      "execution_count": null,
      "metadata": {
        "id": "ekxHO2BWCTWg"
      },
      "outputs": [],
      "source": [
        "a = ['Ana', 'Bia', 'Carla', 'Diane','Edson']\n",
        "d = dict(enumerate((a)))"
      ]
    },
    {
      "cell_type": "code",
      "execution_count": null,
      "metadata": {
        "id": "8art9IN7CTWg",
        "outputId": "41ada2c9-f4a2-4f75-c151-b2d4e8f5f83b"
      },
      "outputs": [
        {
          "data": {
            "text/plain": [
              "{0: 'Ana', 1: 'Bia', 2: 'Carla', 3: 'Diane', 4: 'Edson'}"
            ]
          },
          "execution_count": 83,
          "metadata": {},
          "output_type": "execute_result"
        }
      ],
      "source": [
        "d"
      ]
    },
    {
      "cell_type": "markdown",
      "metadata": {
        "id": "2q1ZuqARCTWg"
      },
      "source": [
        "Uma aplicação natural para os dicionário é a organização de informações em pares de atributos com seus valores. Considere as seguintes informações:\n",
        "- Nome\n",
        "- Idade\n",
        "- Amigos\n",
        "\n",
        "Um dicionário é um modo natural de organizar estas informações para cada pessoa."
      ]
    },
    {
      "cell_type": "code",
      "execution_count": null,
      "metadata": {
        "id": "Hv_XZMTVCTWh"
      },
      "outputs": [],
      "source": [
        "pessoa = {'nome': 'Ana', 'idade':23, 'amigos':['Bia','Fred','Carlos']}"
      ]
    },
    {
      "cell_type": "markdown",
      "metadata": {
        "id": "ormJqsomCTWh"
      },
      "source": [
        "Cada atributo (chave) pode ser acessado com a notação de colchetes."
      ]
    },
    {
      "cell_type": "code",
      "execution_count": null,
      "metadata": {
        "id": "nLtB6lrbCTWh",
        "outputId": "b11f4001-3844-45d2-88fe-badcc7374426"
      },
      "outputs": [
        {
          "data": {
            "text/plain": [
              "'Ana'"
            ]
          },
          "execution_count": 85,
          "metadata": {},
          "output_type": "execute_result"
        }
      ],
      "source": [
        "pessoa['nome']"
      ]
    },
    {
      "cell_type": "markdown",
      "source": [],
      "metadata": {
        "id": "P0D4NXDLCaxd"
      }
    },
    {
      "cell_type": "markdown",
      "metadata": {
        "id": "UOQFyikLCTWh"
      },
      "source": [
        "Utilizando a notação de colchetes podemos adicionar novos atributos ao dicionário"
      ]
    },
    {
      "cell_type": "code",
      "execution_count": null,
      "metadata": {
        "id": "Kh62cFwECTWh",
        "outputId": "3ed7b822-e970-4556-eca3-91bdf1ccdad9"
      },
      "outputs": [
        {
          "data": {
            "text/plain": [
              "{'nome': 'Ana',\n",
              " 'idade': 23,\n",
              " 'amigos': ['Bia', 'Fred', 'Carlos'],\n",
              " 'conjuge': 'Joao'}"
            ]
          },
          "execution_count": 86,
          "metadata": {},
          "output_type": "execute_result"
        }
      ],
      "source": [
        "pessoa['conjuge']='Joao'\n",
        "pessoa"
      ]
    },
    {
      "cell_type": "markdown",
      "metadata": {
        "id": "qCI1YMf0CTWh"
      },
      "source": [
        "O operador del retira um par chave-valor do dicionário a partir de uma chave informada"
      ]
    },
    {
      "cell_type": "code",
      "execution_count": null,
      "metadata": {
        "id": "a_zrN6zbCTWh",
        "outputId": "dafd7209-c7dd-419a-d5d7-cb08201b2ea9"
      },
      "outputs": [
        {
          "data": {
            "text/plain": [
              "{'nome': 'Ana', 'idade': 23, 'amigos': ['Bia', 'Fred', 'Carlos']}"
            ]
          },
          "execution_count": 87,
          "metadata": {},
          "output_type": "execute_result"
        }
      ],
      "source": [
        "del pessoa['conjuge']\n",
        "pessoa"
      ]
    },
    {
      "cell_type": "markdown",
      "metadata": {
        "id": "B_JeFaepCTWh"
      },
      "source": [
        "O método `pop()` tem o mesmo efeito, mas retorna o valor removido."
      ]
    },
    {
      "cell_type": "code",
      "execution_count": null,
      "metadata": {
        "id": "htS-VzAICTWi"
      },
      "outputs": [],
      "source": [
        "pessoa['conjuge']='Joao'"
      ]
    },
    {
      "cell_type": "code",
      "execution_count": null,
      "metadata": {
        "id": "ozcxYGpQCTWi",
        "outputId": "26d8327f-163e-4f86-c0c1-35861489eaae"
      },
      "outputs": [
        {
          "data": {
            "text/plain": [
              "'Joao'"
            ]
          },
          "execution_count": 89,
          "metadata": {},
          "output_type": "execute_result"
        }
      ],
      "source": [
        "valor = pessoa.pop('conjuge')\n",
        "valor"
      ]
    },
    {
      "cell_type": "code",
      "execution_count": null,
      "metadata": {
        "id": "VDxWSGIXCTWi",
        "outputId": "fde21eff-8c3c-4a2d-b699-b67521e43c0c"
      },
      "outputs": [
        {
          "data": {
            "text/plain": [
              "{'nome': 'Ana', 'idade': 23, 'amigos': ['Bia', 'Fred', 'Carlos']}"
            ]
          },
          "execution_count": 90,
          "metadata": {},
          "output_type": "execute_result"
        }
      ],
      "source": [
        "pessoa"
      ]
    },
    {
      "cell_type": "markdown",
      "metadata": {
        "id": "seH1rgpgCTWi"
      },
      "source": [
        "O método `update()` modifica os valores de um dicionário existente, ou adiciona pares que ainda não existam. Vamos modificar a idade de Ana para 25 e acrescentar um atributo novo, salário, com seu respectivo valor."
      ]
    },
    {
      "cell_type": "code",
      "execution_count": null,
      "metadata": {
        "id": "XMkhN96WCTWi",
        "outputId": "6111d1a9-5a1a-47e6-f6c2-d12c709cb8ed"
      },
      "outputs": [
        {
          "data": {
            "text/plain": [
              "{'nome': 'Ana',\n",
              " 'idade': 25,\n",
              " 'amigos': ['Bia', 'Fred', 'Carlos'],\n",
              " 'salario': 8000}"
            ]
          },
          "execution_count": 91,
          "metadata": {},
          "output_type": "execute_result"
        }
      ],
      "source": [
        "pessoa.update({'salario':8000,'idade':25})\n",
        "pessoa"
      ]
    },
    {
      "cell_type": "markdown",
      "metadata": {
        "id": "jB_wpHNgCTWi"
      },
      "source": [
        "Os métodos `keys()` e `values()` retornam iteradores com chaves e valores, respetivamente."
      ]
    },
    {
      "cell_type": "code",
      "execution_count": null,
      "metadata": {
        "id": "Sto6nQtMCTWi",
        "outputId": "f6ff296d-d53f-420f-f645-540c26f3b485"
      },
      "outputs": [
        {
          "data": {
            "text/plain": [
              "dict_keys(['nome', 'idade', 'amigos', 'salario'])"
            ]
          },
          "execution_count": 92,
          "metadata": {},
          "output_type": "execute_result"
        }
      ],
      "source": [
        "pessoa.keys()"
      ]
    },
    {
      "cell_type": "code",
      "execution_count": null,
      "metadata": {
        "id": "_TjRYQUICTWi",
        "outputId": "658f92dc-3065-4f85-aa26-8d3816b64312"
      },
      "outputs": [
        {
          "data": {
            "text/plain": [
              "dict_values(['Ana', 25, ['Bia', 'Fred', 'Carlos'], 8000])"
            ]
          },
          "execution_count": 93,
          "metadata": {},
          "output_type": "execute_result"
        }
      ],
      "source": [
        "pessoa.values()"
      ]
    },
    {
      "cell_type": "markdown",
      "metadata": {
        "id": "JxIMySrNCTWj"
      },
      "source": [
        "A função `itens()` retorna uma lista de tuplas no formado (chave,valor)  "
      ]
    },
    {
      "cell_type": "code",
      "execution_count": null,
      "metadata": {
        "id": "JBSFDVMSCTWj",
        "outputId": "c4b72dbb-9f7c-4a2f-f9e4-5e8e78c44089"
      },
      "outputs": [
        {
          "data": {
            "text/plain": [
              "dict_items([('nome', 'Ana'), ('idade', 25), ('amigos', ['Bia', 'Fred', 'Carlos']), ('salario', 8000)])"
            ]
          },
          "execution_count": 94,
          "metadata": {},
          "output_type": "execute_result"
        }
      ],
      "source": [
        "pessoa.items()\n"
      ]
    },
    {
      "cell_type": "markdown",
      "metadata": {
        "id": "EsoI-qWFCTWj"
      },
      "source": [
        "Um dicionário pode ser visto como uma lista de tuplas. Desse modo, pode ser criado a partir de uma combinação de listas com zip."
      ]
    },
    {
      "cell_type": "code",
      "execution_count": null,
      "metadata": {
        "id": "BY7vvPO6CTWj"
      },
      "outputs": [],
      "source": [
        "atributos = ['nome','idade','salario']\n",
        "valores = ['Ana', 23, 8000]"
      ]
    },
    {
      "cell_type": "code",
      "execution_count": null,
      "metadata": {
        "id": "a8WxKby1CTWj",
        "outputId": "be962a4a-c67d-43ae-fb38-1afc878e9306"
      },
      "outputs": [
        {
          "data": {
            "text/plain": [
              "{'nome': 'Ana', 'idade': 23, 'salario': 8000}"
            ]
          },
          "execution_count": 8,
          "metadata": {},
          "output_type": "execute_result"
        }
      ],
      "source": [
        "p = dict (zip(atributos, valores))\n",
        "p"
      ]
    },
    {
      "cell_type": "markdown",
      "metadata": {
        "id": "9wf9zJ2bCTWj"
      },
      "source": [
        "### Abrangência (comprehension) de listas, dicionários e tuplas"
      ]
    },
    {
      "cell_type": "markdown",
      "metadata": {
        "id": "einGk1PXCTWk"
      },
      "source": [
        "Abrangência de coleções é uma maneira de construir uma nova coleção aplicando filtro e transformação em uma coleção original.\n",
        "\n",
        "É equivalente a utilizar um laço for com um if para adicionar elementos na nova coleção."
      ]
    },
    {
      "cell_type": "markdown",
      "metadata": {
        "id": "V0dhVhChCTWk"
      },
      "source": [
        "A sintaxe para criar uma lista com abrangência é a seguinte:\n",
        "```\n",
        "[expr for val in collection if condition]\n",
        "```\n",
        "Por exemplo, imagine que temos uma lista de números"
      ]
    },
    {
      "cell_type": "code",
      "execution_count": null,
      "metadata": {
        "id": "jzOhWvMUCTWk"
      },
      "outputs": [],
      "source": [
        "a=[1,2,-3,4,5,6,-7]"
      ]
    },
    {
      "cell_type": "markdown",
      "metadata": {
        "id": "XbdxowGwCTWk"
      },
      "source": [
        "e queremos gerar uma lista com os quadrados dos seus valores. Podemos fazer isso com abrangência do seguinte modo:"
      ]
    },
    {
      "cell_type": "code",
      "execution_count": null,
      "metadata": {
        "id": "cIb6QW0QCTWk",
        "outputId": "ba099cab-ad39-4fea-8452-0f4752e5a0b5"
      },
      "outputs": [
        {
          "name": "stdout",
          "output_type": "stream",
          "text": [
            "[1, 2, -3, 4, 5, 6, -7]\n"
          ]
        },
        {
          "data": {
            "text/plain": [
              "[1, 4, 9, 16, 25, 36, 49]"
            ]
          },
          "execution_count": 98,
          "metadata": {},
          "output_type": "execute_result"
        }
      ],
      "source": [
        "print(a)\n",
        "[x**2 for x in a]\n"
      ]
    },
    {
      "cell_type": "markdown",
      "metadata": {
        "id": "n9rjbVn7CTWl"
      },
      "source": [
        "Excluindo os números negativos, temos"
      ]
    },
    {
      "cell_type": "code",
      "execution_count": null,
      "metadata": {
        "id": "LV7pckFiCTWl",
        "outputId": "3cf84822-e009-458c-d497-868d4299080f"
      },
      "outputs": [
        {
          "name": "stdout",
          "output_type": "stream",
          "text": [
            "[1, 2, -3, 4, 5, 6, -7]\n"
          ]
        },
        {
          "data": {
            "text/plain": [
              "[1, 4, 16, 25, 36]"
            ]
          },
          "execution_count": 99,
          "metadata": {},
          "output_type": "execute_result"
        }
      ],
      "source": [
        "print(a)\n",
        "[x**2 for x in a if x >-1]"
      ]
    },
    {
      "cell_type": "markdown",
      "metadata": {
        "id": "jPUeL4Z7CTWl"
      },
      "source": [
        "#### Exemplo de uso de comprehension"
      ]
    },
    {
      "cell_type": "markdown",
      "metadata": {
        "id": "9BCVsGdXCTWl"
      },
      "source": [
        "Vamos tentar um exemplo um pouco mais elaborado. Considere que temos registros sobre pessoas, armazenado em uma lista chamada dados."
      ]
    },
    {
      "cell_type": "code",
      "execution_count": null,
      "metadata": {
        "id": "vJh8ac54CTWl",
        "outputId": "c7b062cc-c9c6-439c-b3d4-3369dcb5f611"
      },
      "outputs": [
        {
          "data": {
            "text/plain": [
              "[{'nome': 'Ana', 'idade': 23, 'amigos': ['Bia', 'Fred', 'Carlos']},\n",
              " {'nome': 'Bia', 'idade': 27, 'amigos': ['Ana', 'Davi']},\n",
              " {'nome': 'Carlos', 'idade': 26, 'amigos': ['Davi', 'Bia']}]"
            ]
          },
          "execution_count": 100,
          "metadata": {},
          "output_type": "execute_result"
        }
      ],
      "source": [
        "p1 = {'nome': 'Ana', 'idade':23, 'amigos':['Bia','Fred','Carlos']}\n",
        "p2 = {'nome': 'Bia', 'idade':27, 'amigos':['Ana','Davi']}\n",
        "p3 = {'nome': 'Carlos', 'idade':26, 'amigos':['Davi','Bia']}\n",
        "dados = [p1,p2,p3]\n",
        "dados"
      ]
    },
    {
      "cell_type": "markdown",
      "metadata": {
        "id": "uW8NMKQQCTWm"
      },
      "source": [
        "Como podemos fazer consultas a esta lista? Por exemplo, como consultar as pessoas com mais de 25 anos?"
      ]
    },
    {
      "cell_type": "code",
      "execution_count": null,
      "metadata": {
        "id": "CtGxXq7xCTWm",
        "outputId": "6bbc44e9-187e-46cb-9f30-277216663238"
      },
      "outputs": [
        {
          "data": {
            "text/plain": [
              "[{'nome': 'Bia', 'idade': 27, 'amigos': ['Ana', 'Davi']},\n",
              " {'nome': 'Carlos', 'idade': 26, 'amigos': ['Davi', 'Bia']}]"
            ]
          },
          "execution_count": 101,
          "metadata": {},
          "output_type": "execute_result"
        }
      ],
      "source": [
        " [p for p in dados if p['idade']>25]"
      ]
    },
    {
      "cell_type": "markdown",
      "metadata": {
        "id": "ZLKgAgHnCTWs"
      },
      "source": [
        "Ou ainda, somente o nome das pessoas que atendam este critério"
      ]
    },
    {
      "cell_type": "code",
      "execution_count": null,
      "metadata": {
        "id": "6llH0JwMCTWt",
        "outputId": "19ff37de-8bfa-47d9-c43f-7a6cb523d565"
      },
      "outputs": [
        {
          "data": {
            "text/plain": [
              "['Bia', 'Carlos']"
            ]
          },
          "execution_count": 102,
          "metadata": {},
          "output_type": "execute_result"
        }
      ],
      "source": [
        "[p['nome'] for p in dados if p['idade']>25]"
      ]
    },
    {
      "cell_type": "markdown",
      "metadata": {
        "id": "ni--gg31CTWt"
      },
      "source": [
        "Se preferir, utilize a função list() ao invés da notação de colchetes."
      ]
    },
    {
      "cell_type": "code",
      "execution_count": null,
      "metadata": {
        "id": "JtgZLxN7CTWt",
        "outputId": "b36ea7e7-f481-4ed5-e221-9f382dae2e79"
      },
      "outputs": [
        {
          "data": {
            "text/plain": [
              "[{'nome': 'Bia', 'idade': 27, 'amigos': ['Ana', 'Davi']},\n",
              " {'nome': 'Carlos', 'idade': 26, 'amigos': ['Davi', 'Bia']}]"
            ]
          },
          "execution_count": 103,
          "metadata": {},
          "output_type": "execute_result"
        }
      ],
      "source": [
        "list(x for x in dados if x['idade']>25)"
      ]
    },
    {
      "cell_type": "markdown",
      "metadata": {
        "id": "I_AmHI49CTWt"
      },
      "source": [
        "A estratégia de abrangencia para descrever como coleções são formadas pode ser utilizada para criação de dicionários."
      ]
    },
    {
      "cell_type": "markdown",
      "metadata": {
        "id": "-6XXujnaCTWt"
      },
      "source": [
        "Por exemplo, podemos criar um dicionário derivado, onde apenas alguns campos são utilizados."
      ]
    },
    {
      "cell_type": "code",
      "execution_count": null,
      "metadata": {
        "id": "DsOEdFhqCTWu",
        "outputId": "d143cbd8-ce61-4703-cd53-94c8d3ef3dc4"
      },
      "outputs": [
        {
          "data": {
            "text/plain": [
              "{'nome': 'Ana', 'idade': 23}"
            ]
          },
          "execution_count": 104,
          "metadata": {},
          "output_type": "execute_result"
        }
      ],
      "source": [
        "p1 = {'nome': 'Ana', 'idade':23, 'amigos':['Bia','Fred','Carlos']}\n",
        "#p1.items()\n",
        "colunas = ['nome','idade']\n",
        "{k:v for k,v in p1.items() if k in colunas}"
      ]
    },
    {
      "cell_type": "markdown",
      "metadata": {
        "id": "Uy_ErmKyCTWu"
      },
      "source": [
        "Podemos aninhar a abrangência. Por exemplo, o código abaixo cria uma lista de pessoas a partir da lista `dados` mas apenas com nome e idade"
      ]
    },
    {
      "cell_type": "code",
      "execution_count": null,
      "metadata": {
        "id": "AIW1QoXeCTWu",
        "outputId": "e42310eb-95c7-477c-a2d4-2c5f5beb331f"
      },
      "outputs": [
        {
          "data": {
            "text/plain": [
              "[{'nome': 'Bia', 'idade': 27}, {'nome': 'Carlos', 'idade': 26}]"
            ]
          },
          "execution_count": 105,
          "metadata": {},
          "output_type": "execute_result"
        }
      ],
      "source": [
        "[{k:v for k,v in p.items() if k in colunas} for p in dados if p['idade']>25]"
      ]
    },
    {
      "cell_type": "markdown",
      "metadata": {
        "id": "S4yAvK6vCTWu"
      },
      "source": [
        "##  Funções"
      ]
    },
    {
      "cell_type": "markdown",
      "metadata": {
        "id": "TyJns2awCTWu"
      },
      "source": [
        "Uma função é um trecho de código nomeado que produz um resultado a partir de parâmetros dados. Para definir uma função, pode-se utilizar funções nomeadas ou funções anônimas."
      ]
    },
    {
      "cell_type": "markdown",
      "metadata": {
        "id": "nYYkxuVFCTWu"
      },
      "source": [
        "Nas funções nomeadas o trecho de código recebe um nome para que possa ser invocado posteriormente em outro ponto do programa. Já as funções anônimas são utilizadas quando o código não tem previsão de ser reutilizado, portanto não é necessário nomear o trecho de código."
      ]
    },
    {
      "cell_type": "markdown",
      "metadata": {
        "id": "uxVO72CXCTWu"
      },
      "source": [
        "Em Python, e várias outras linguagens, funções anônimas são chamadas de *expressões lambda*."
      ]
    },
    {
      "cell_type": "markdown",
      "metadata": {
        "id": "Sfqhpo9KCTWu"
      },
      "source": [
        "### Funções Nomeadas"
      ]
    },
    {
      "cell_type": "markdown",
      "metadata": {
        "id": "qbiWNLPRCTWv"
      },
      "source": [
        "**Funções nomeadas** são criadas com a palavra reservada def indicando o nome e os parâmetros da função. Não é necessário informar um tipo de retorno. A chamada de uma função é feita através do nome da função com parâmetros. Se o Python não encontrar um comando return um valor `None`  será retornado automaticamente.  "
      ]
    },
    {
      "cell_type": "markdown",
      "metadata": {
        "id": "JVKMFAu_CTWv"
      },
      "source": [
        "Sintaxe:\n",
        "```\n",
        "def nome_da_função (parâmetros):\n",
        "    #codigo identado\n",
        "```"
      ]
    },
    {
      "cell_type": "markdown",
      "metadata": {
        "id": "eM7-FCMJCTWv"
      },
      "source": [
        "Os parâmetros podem ser posicionais ou identificados (keywords)."
      ]
    },
    {
      "cell_type": "markdown",
      "metadata": {
        "id": "zrbVQQOuCTWv"
      },
      "source": [
        "Os **parâmetros identificados** por palavra chave na declaração da função podem ser omitidos na chamada da mesma. Também podem ser definidos com valores default. Os parâmetros identificados devem sempre ser declarados após os posicionais, se houver."
      ]
    },
    {
      "cell_type": "code",
      "execution_count": null,
      "metadata": {
        "id": "i1KqZgWWCTWv"
      },
      "outputs": [],
      "source": [
        "def media (x,y,tipo='aritmetica'):\n",
        "    if tipo=='aritmetica':\n",
        "       return (x+y)/2\n",
        "    elif tipo=='harmonica':\n",
        "       return (2*x*y)/(x+y)"
      ]
    },
    {
      "cell_type": "markdown",
      "metadata": {
        "id": "a9KPX2HsCTWv"
      },
      "source": [
        "Funções são **chamadas** por nome seguido de parentesis e seus parâmetros:\n",
        "```\n",
        "func(a,b)\n",
        "```"
      ]
    },
    {
      "cell_type": "code",
      "execution_count": null,
      "metadata": {
        "id": "-voy1QggCTWv",
        "outputId": "7766b6c1-96ec-4a33-e24c-646c698c1cc0"
      },
      "outputs": [
        {
          "data": {
            "text/plain": [
              "3.5"
            ]
          },
          "execution_count": 107,
          "metadata": {},
          "output_type": "execute_result"
        }
      ],
      "source": [
        "media(2,5)"
      ]
    },
    {
      "cell_type": "code",
      "execution_count": null,
      "metadata": {
        "id": "sX2g0LO2CTWw",
        "outputId": "4540edac-48aa-4464-af9d-94a454c9a652"
      },
      "outputs": [
        {
          "data": {
            "text/plain": [
              "2.857142857142857"
            ]
          },
          "execution_count": 108,
          "metadata": {},
          "output_type": "execute_result"
        }
      ],
      "source": [
        "media(2,5,tipo='harmonica')"
      ]
    },
    {
      "cell_type": "markdown",
      "metadata": {
        "id": "XbGKHUAcCTWw"
      },
      "source": [
        "Na chamada de função, todos os parâmetros podem ser explícitos e dados em qualquer ordem. Isso ajuda a legibilidade do código."
      ]
    },
    {
      "cell_type": "code",
      "execution_count": null,
      "metadata": {
        "id": "oNtjIhzICTWw",
        "outputId": "626e8cc2-febc-417b-c242-8c4a22ee1295"
      },
      "outputs": [
        {
          "data": {
            "text/plain": [
              "3.4285714285714284"
            ]
          },
          "execution_count": 109,
          "metadata": {},
          "output_type": "execute_result"
        }
      ],
      "source": [
        "media(tipo='harmonica',y=3,x=4)"
      ]
    },
    {
      "cell_type": "markdown",
      "metadata": {
        "id": "yIDbcFIYCTWw"
      },
      "source": [
        "Lembre-se: os parâmetros posicionais não podem ser omitidos."
      ]
    },
    {
      "cell_type": "code",
      "execution_count": null,
      "metadata": {
        "id": "RniqnjIICTWw",
        "outputId": "a06aa70b-c392-4aec-e520-c535d597072f"
      },
      "outputs": [
        {
          "ename": "TypeError",
          "evalue": "media() missing 1 required positional argument: 'x'",
          "output_type": "error",
          "traceback": [
            "\u001b[1;31m---------------------------------------------------------------------------\u001b[0m",
            "\u001b[1;31mTypeError\u001b[0m                                 Traceback (most recent call last)",
            "\u001b[1;32m<ipython-input-110-93bc20794b77>\u001b[0m in \u001b[0;36m<module>\u001b[1;34m\u001b[0m\n\u001b[1;32m----> 1\u001b[1;33m \u001b[0mmedia\u001b[0m\u001b[1;33m(\u001b[0m\u001b[0mtipo\u001b[0m\u001b[1;33m=\u001b[0m\u001b[1;34m'harmonica'\u001b[0m\u001b[1;33m,\u001b[0m\u001b[0my\u001b[0m\u001b[1;33m=\u001b[0m\u001b[1;36m3\u001b[0m\u001b[1;33m)\u001b[0m\u001b[1;33m\u001b[0m\u001b[1;33m\u001b[0m\u001b[0m\n\u001b[0m",
            "\u001b[1;31mTypeError\u001b[0m: media() missing 1 required positional argument: 'x'"
          ]
        }
      ],
      "source": [
        "media(tipo='harmonica',y=3)"
      ]
    },
    {
      "cell_type": "markdown",
      "metadata": {
        "id": "sNeeuC8-CTWw"
      },
      "source": [
        "Uma função em Python pode retornar uma tupla. Isso permite retornar multiplos valores de uma só vez. Para tanto, na chamada da função você deve desempacotar o retorno para várias variáveis."
      ]
    },
    {
      "cell_type": "code",
      "execution_count": null,
      "metadata": {
        "id": "YI3L-q2uCTWw"
      },
      "outputs": [],
      "source": [
        "def descreva (numeros):\n",
        "    minimo= min(numeros)\n",
        "    maximo = max(numeros)\n",
        "    med = sum(numeros)/len(numeros)\n",
        "    return minimo,maximo,med"
      ]
    },
    {
      "cell_type": "code",
      "execution_count": null,
      "metadata": {
        "id": "QIMVK_0JCTWw"
      },
      "outputs": [],
      "source": [
        "#descreva([11,9,7.5])\n",
        "maximo,minimo,medio=descreva([11,9,7.5])"
      ]
    },
    {
      "cell_type": "code",
      "execution_count": null,
      "metadata": {
        "id": "VWCWdBzhCTWw",
        "outputId": "09bda817-b4b3-4ac8-803c-48702baaaa79"
      },
      "outputs": [
        {
          "data": {
            "text/plain": [
              "(7.5, 11, 9.166666666666666)"
            ]
          },
          "execution_count": 113,
          "metadata": {},
          "output_type": "execute_result"
        }
      ],
      "source": [
        "maximo, minimo, medio"
      ]
    },
    {
      "cell_type": "markdown",
      "metadata": {
        "id": "NI0WMCo_CTWx"
      },
      "source": [
        "Outra alternativa é retornar um dicionário. Em geral, esta alternativa torna o retorno mais legível."
      ]
    },
    {
      "cell_type": "code",
      "execution_count": null,
      "metadata": {
        "id": "zRB_EHP6CTWx"
      },
      "outputs": [],
      "source": [
        "def descreva (numeros):\n",
        "    minimo= min(numeros)\n",
        "    maximo = max(numeros)\n",
        "    med = sum(numeros)/len(numeros)\n",
        "    return {'minimo':minimo,'maximo': maximo,'media':med}"
      ]
    },
    {
      "cell_type": "code",
      "execution_count": null,
      "metadata": {
        "id": "msNNfcifCTWx",
        "outputId": "beee4ad7-e071-4047-eaa5-a2c31dc8a285"
      },
      "outputs": [
        {
          "data": {
            "text/plain": [
              "{'minimo': 7.5, 'maximo': 11, 'media': 9.166666666666666}"
            ]
          },
          "execution_count": 115,
          "metadata": {},
          "output_type": "execute_result"
        }
      ],
      "source": [
        "r=descreva([11,9, 7.5])\n",
        "r"
      ]
    },
    {
      "cell_type": "markdown",
      "metadata": {
        "id": "SbAxzXTZCTWx"
      },
      "source": [
        "A possibilidade de retornar tuplas e dicionários dá grande flexibilidade para o desenvolvedor, uma vez que ele não precisa definir estruturas temporárias apenas para retornar valores de uma dada função."
      ]
    },
    {
      "cell_type": "markdown",
      "metadata": {
        "id": "sdlcK-GNCTWx"
      },
      "source": [
        "Um fato importante sobre funções é que elas são objetos em Python. Desse modo, podem ser passadas como parâmetro, podem ser colocadas em listas, etc."
      ]
    },
    {
      "cell_type": "code",
      "execution_count": null,
      "metadata": {
        "id": "fHadb_LSCTWx"
      },
      "outputs": [],
      "source": [
        "def media(x,y):\n",
        "    return (x+y)/2"
      ]
    },
    {
      "cell_type": "code",
      "execution_count": null,
      "metadata": {
        "id": "rA0zAZjrCTWx"
      },
      "outputs": [],
      "source": [
        "def desvio (x,y):\n",
        "    return abs(x-y)/2**(1/2)"
      ]
    },
    {
      "cell_type": "code",
      "execution_count": null,
      "metadata": {
        "id": "fLgww5uhCTWx"
      },
      "outputs": [],
      "source": [
        "operacoes = [media,desvio]"
      ]
    },
    {
      "cell_type": "code",
      "execution_count": null,
      "metadata": {
        "id": "6adhYCgFCTWy",
        "outputId": "472c2b84-889d-4276-d096-07cca8456e96"
      },
      "outputs": [
        {
          "data": {
            "text/plain": [
              "[<function __main__.media(x, y)>, <function __main__.desvio(x, y)>]"
            ]
          },
          "execution_count": 119,
          "metadata": {},
          "output_type": "execute_result"
        }
      ],
      "source": [
        "operacoes"
      ]
    },
    {
      "cell_type": "code",
      "execution_count": null,
      "metadata": {
        "id": "3pgfSwJZCTWy",
        "outputId": "899be33d-c557-48ad-8c87-6d43dc593384"
      },
      "outputs": [
        {
          "name": "stdout",
          "output_type": "stream",
          "text": [
            "4.0\n",
            "1.414213562373095\n"
          ]
        },
        {
          "data": {
            "text/plain": [
              "[4.0, 1.414213562373095]"
            ]
          },
          "execution_count": 120,
          "metadata": {},
          "output_type": "execute_result"
        }
      ],
      "source": [
        "for op in operacoes:\n",
        "    print(op(3,5))\n",
        "\n",
        "[op(3,5) for op in operacoes]"
      ]
    },
    {
      "cell_type": "markdown",
      "metadata": {
        "id": "Lsup8jW6CTWy"
      },
      "source": [
        "O atributo `__name__` é uma string com o nome de uma função. Com ele, a saida fica mais legível. Note que transformamos float em string para concatenarmos o nome das funções."
      ]
    },
    {
      "cell_type": "code",
      "execution_count": null,
      "metadata": {
        "id": "j_n7LrSjCTWy",
        "outputId": "bfb04c5a-2f98-4b26-ae63-4e4c59ae023b"
      },
      "outputs": [
        {
          "name": "stdout",
          "output_type": "stream",
          "text": [
            "media: 4.0\n",
            "desvio: 1.414213562373095\n"
          ]
        }
      ],
      "source": [
        "for op in operacoes:\n",
        "    print(op.__name__+\": \"+str(op(3,5)))"
      ]
    },
    {
      "cell_type": "markdown",
      "metadata": {
        "id": "z9jp5OQ7CTWy"
      },
      "source": [
        "### Funções anonimas (lambda)"
      ]
    },
    {
      "cell_type": "markdown",
      "metadata": {
        "id": "lKa3gur6CTWy"
      },
      "source": [
        "Em alguns contextos, não precisamos criar um código reutilizável. Nestes casos, utilizamos as funções anônimas. Em Python, utililzamos uma **expressão lambda** para criar uma função anônima."
      ]
    },
    {
      "cell_type": "markdown",
      "metadata": {
        "id": "1b9s76oqCTWz"
      },
      "source": [
        "Uma função lambda possui apenas um comando e produz um único valor de retorno. Sua sintaxe é a seguinte:\n",
        "```\n",
        "lambda argumentos: expressão\n",
        "```"
      ]
    },
    {
      "cell_type": "markdown",
      "metadata": {
        "id": "Mxkv-6IsCTWz"
      },
      "source": [
        "Por exemplo, podemos definir uma expressão para calcular o quadrado de um número.\n",
        "```\n",
        "lambda x: x**2\n",
        "```"
      ]
    },
    {
      "cell_type": "markdown",
      "metadata": {
        "id": "0_COn3zyCTWz"
      },
      "source": [
        "Funções lambdas são geralmente utilizadas em combinação com outras funções tais como a função map(). A função map() aplica a expressão lambda nos elementos de uma coleção e retorna um iterador com os resultados. O iterador pode ser utilizado em uma função list(), set(), etc."
      ]
    },
    {
      "cell_type": "markdown",
      "metadata": {
        "id": "xpZ56swZCTWz"
      },
      "source": [
        "**Exemplo:** Vamos aplicar uma função lambda que receba um parametro x e devolva x elevado ao quadrado. Essa função é aplicada sobre os elementos da coleção nums e o iterador it_quads é retornado. O iterador é utilizado para gerar uma lista cujos elementos são o quadrado dos números da lista original."
      ]
    },
    {
      "cell_type": "code",
      "execution_count": null,
      "metadata": {
        "id": "jKyfQ0CWCTW0"
      },
      "outputs": [],
      "source": [
        "nums =[1,2,3,4,5]"
      ]
    },
    {
      "cell_type": "code",
      "execution_count": null,
      "metadata": {
        "id": "40JcDq2ACTW0"
      },
      "outputs": [],
      "source": [
        "it_quads = map(lambda x: x**2,nums)"
      ]
    },
    {
      "cell_type": "code",
      "execution_count": null,
      "metadata": {
        "id": "z771O5-VCTW0",
        "outputId": "97e8f7a5-0db6-4bca-93a5-51fa13f7ebec"
      },
      "outputs": [
        {
          "data": {
            "text/plain": [
              "[1, 4, 9, 16, 25]"
            ]
          },
          "execution_count": 128,
          "metadata": {},
          "output_type": "execute_result"
        }
      ],
      "source": [
        "list(it_quads)"
      ]
    },
    {
      "cell_type": "markdown",
      "metadata": {
        "id": "oPEopGEoCTW0"
      },
      "source": [
        "### Variáveis e passagem de parâmetros"
      ]
    },
    {
      "cell_type": "markdown",
      "metadata": {
        "id": "CRqhoU60CTW0"
      },
      "source": [
        "Atribuição de estruturas de dados em Python cria apenas uma referencias e não uma cópia dos valores dos objetos."
      ]
    },
    {
      "cell_type": "code",
      "execution_count": null,
      "metadata": {
        "id": "C2mHNEcUCTW0"
      },
      "outputs": [],
      "source": [
        "a = [2] # cria uma lista com um único elemento, o número 2\n",
        "b = a"
      ]
    },
    {
      "cell_type": "markdown",
      "metadata": {
        "id": "P2P-Y14DCTW0"
      },
      "source": [
        "Após a atribuição b é uma segunda referencia para lista [2], além de a. Se modificarmos o valor da lista originalmente referenciada por a, a referencia b também apresentará a modificação."
      ]
    },
    {
      "cell_type": "code",
      "execution_count": null,
      "metadata": {
        "id": "KvfqNDGcCTW1",
        "outputId": "fdc5adcc-61e5-4f8f-9095-6dbf84aa7680"
      },
      "outputs": [
        {
          "data": {
            "text/plain": [
              "[2]"
            ]
          },
          "execution_count": 131,
          "metadata": {},
          "output_type": "execute_result"
        }
      ],
      "source": [
        "b # antes"
      ]
    },
    {
      "cell_type": "code",
      "execution_count": null,
      "metadata": {
        "id": "QK6f7ZuPCTW1"
      },
      "outputs": [],
      "source": [
        "a.append(4)"
      ]
    },
    {
      "cell_type": "code",
      "execution_count": null,
      "metadata": {
        "id": "VOO1egDQCTW1",
        "outputId": "006cbbcc-f358-4923-a373-bd5cac99eec3"
      },
      "outputs": [
        {
          "data": {
            "text/plain": [
              "[2, 4]"
            ]
          },
          "execution_count": 133,
          "metadata": {},
          "output_type": "execute_result"
        }
      ],
      "source": [
        "b # depois"
      ]
    },
    {
      "cell_type": "markdown",
      "metadata": {
        "id": "gqHHITQVCTW1"
      },
      "source": [
        "Quando passamos parâmetros para funções, variáveis locais são criadas para referenciar os objetos sem copiá-los."
      ]
    },
    {
      "cell_type": "markdown",
      "metadata": {
        "id": "nFbRoNvQCTW1"
      },
      "source": [
        "## Conclusão"
      ]
    },
    {
      "cell_type": "markdown",
      "metadata": {
        "id": "Jma0l8CUCTW1"
      },
      "source": [
        "Isto encerra nossa pequena introdução aos principais aspectos da linguagem Python. Muitos detalhes foram simplificados para que este material não ficasse muito extenso. Caso você deseje se aprofundar mais em algum dos tópicos, use as referências fornecidas abaixo. Nas próximas aulas iremos estudar bibliotecas de apoio à análise de dados: numpy e pandas."
      ]
    },
    {
      "cell_type": "markdown",
      "metadata": {
        "id": "K6XUfltVCTW2"
      },
      "source": [
        "## Referências"
      ]
    },
    {
      "cell_type": "markdown",
      "metadata": {
        "id": "jvAPXgGdCTW2"
      },
      "source": [
        "1. MENEZES, Nilo N. C. “Introdução à programação com Python”. Novatec, 2019.\n",
        "\n",
        "1. McKENNEY, Wes (2017). “Python for Data Analysis”. O’Reilly, 2nd Edition.\n",
        "\n",
        "1. Python Software Foundation (2019). “The Python Tutorial”. https://docs.python.org/3/tutorial/\n",
        "\n",
        "1. REITER, R. “Iteractive Tutorials: Python”. https://www.learnpython.org\n",
        "\n",
        "1. Data Camp. “Introduction to Python”. https://www.datacamp.com/courses/intro-to-python-for-data-science\n",
        "\n"
      ]
    },
    {
      "cell_type": "markdown",
      "metadata": {
        "id": "fmNYy-JXCTW2"
      },
      "source": [
        "6. Fernando Masanori. “Python para Zumbis”. https://www.pycursos.com/python-para-zumbis/\n",
        "\n",
        "6. CCSL do IME/USP. “Introdução à Ciência da Computação com Python”. Série de videos. https://www.youtube.com/playlist?list=PLcoJJSvnDgcKpOi_UeneTNTIVOigRQwcn\n",
        "\n",
        "1. Pyhton Cheat Sheet. https://www.pythoncheatsheet.org/\n",
        "\n",
        "1. Dev Media. “Python Tutorial”. https://www.devmedia.com.br/python-tutorial/33274\n",
        "\n",
        "1. DBAder. \"Python Enumerate\". https://dbader.org/blog/python-enumerate\n",
        "\n"
      ]
    }
  ],
  "metadata": {
    "celltoolbar": "Slideshow",
    "kernelspec": {
      "display_name": "Python 3",
      "language": "python",
      "name": "python3"
    },
    "language_info": {
      "codemirror_mode": {
        "name": "ipython",
        "version": 3
      },
      "file_extension": ".py",
      "mimetype": "text/x-python",
      "name": "python",
      "nbconvert_exporter": "python",
      "pygments_lexer": "ipython3",
      "version": "3.8.8"
    },
    "colab": {
      "provenance": [],
      "include_colab_link": true
    }
  },
  "nbformat": 4,
  "nbformat_minor": 0
}